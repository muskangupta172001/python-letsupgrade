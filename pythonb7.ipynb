{
  "nbformat": 4,
  "nbformat_minor": 0,
  "metadata": {
    "colab": {
      "name": "Untitled0.ipynb",
      "provenance": [],
      "collapsed_sections": [],
      "toc_visible": true
    },
    "kernelspec": {
      "name": "python3",
      "display_name": "Python 3"
    }
  },
  "cells": [
    {
      "cell_type": "code",
      "metadata": {
        "id": "djAydhWrre-C",
        "colab_type": "code",
        "colab": {
          "base_uri": "https://localhost:8080/",
          "height": 34
        },
        "outputId": "9af5ccb6-6084-455e-815d-b9ac377d1cf4"
      },
      "source": [
        "#list and its default function\n",
        "\n",
        "\n",
        "lst=[1,2,3,4,5]\n",
        "lst.sort()\n",
        "print(lst)"
      ],
      "execution_count": 7,
      "outputs": [
        {
          "output_type": "stream",
          "text": [
            "[1, 2, 3, 4, 5]\n"
          ],
          "name": "stdout"
        }
      ]
    },
    {
      "cell_type": "code",
      "metadata": {
        "id": "k_cwbmX1sc7h",
        "colab_type": "code",
        "colab": {
          "base_uri": "https://localhost:8080/",
          "height": 34
        },
        "outputId": "344cf169-43b0-4c76-9898-a45040fd4bbb"
      },
      "source": [
        "lst=[\"hi\",1,2.3,[3,4,5]]\n",
        "lst.reverse()"
      ],
      "execution_count": 8,
      "outputs": [
        {
          "output_type": "stream",
          "text": [
            "[[3, 4, 5], 2.3, 1, 'hi']\n"
          ],
          "name": "stdout"
        }
      ]
    },
    {
      "cell_type": "code",
      "metadata": {
        "id": "ztNa5fSyss0L",
        "colab_type": "code",
        "colab": {
          "base_uri": "https://localhost:8080/",
          "height": 34
        },
        "outputId": "28d4b6e0-c955-41c5-e096-6a651e06c175"
      },
      "source": [
        "lst1=[\"muskan\",\"harsh\",4,5,6]\n",
        "lst1.remove(\"harsh\")\n",
        "print(lst1)"
      ],
      "execution_count": 10,
      "outputs": [
        {
          "output_type": "stream",
          "text": [
            "['muskan', 4, 5, 6]\n"
          ],
          "name": "stdout"
        }
      ]
    },
    {
      "cell_type": "code",
      "metadata": {
        "id": "OzNA9D9otBUO",
        "colab_type": "code",
        "colab": {
          "base_uri": "https://localhost:8080/",
          "height": 34
        },
        "outputId": "c913395f-92bb-43d8-e43e-06ad35be87b8"
      },
      "source": [
        "lst1=[\"muskan\",\"harsh\",4,5,6]\n",
        "lst1.pop()\n",
        "print(lst1)\n"
      ],
      "execution_count": 15,
      "outputs": [
        {
          "output_type": "stream",
          "text": [
            "['muskan', 'harsh', 4, 5]\n"
          ],
          "name": "stdout"
        }
      ]
    },
    {
      "cell_type": "code",
      "metadata": {
        "id": "mpuntHxFt7lY",
        "colab_type": "code",
        "colab": {
          "base_uri": "https://localhost:8080/",
          "height": 34
        },
        "outputId": "5fb3d70d-e7c3-445e-d656-b68a21bfbaa9"
      },
      "source": [
        "lst1.pop(2)\n",
        "print(lst1)"
      ],
      "execution_count": 16,
      "outputs": [
        {
          "output_type": "stream",
          "text": [
            "['muskan', 'harsh', 5]\n"
          ],
          "name": "stdout"
        }
      ]
    },
    {
      "cell_type": "code",
      "metadata": {
        "id": "OLwQd3Wjw3oz",
        "colab_type": "code",
        "colab": {
          "base_uri": "https://localhost:8080/",
          "height": 34
        },
        "outputId": "c71fc3a1-cdd5-411b-82d5-b784514db023"
      },
      "source": [
        "lst1.index(5)\n",
        "print(lst1)\n"
      ],
      "execution_count": 22,
      "outputs": [
        {
          "output_type": "stream",
          "text": [
            "['muskan', 'harsh', 5]\n"
          ],
          "name": "stdout"
        }
      ]
    },
    {
      "cell_type": "code",
      "metadata": {
        "id": "fp3yDKayxUN8",
        "colab_type": "code",
        "colab": {
          "base_uri": "https://localhost:8080/",
          "height": 34
        },
        "outputId": "bd96389e-0097-4b4f-cc87-b70ba8f412e1"
      },
      "source": [
        "lst1.append(\"dimple\")\n",
        "print(lst1)"
      ],
      "execution_count": 23,
      "outputs": [
        {
          "output_type": "stream",
          "text": [
            "['muskan', 'harsh', 5, 'dimple']\n"
          ],
          "name": "stdout"
        }
      ]
    },
    {
      "cell_type": "code",
      "metadata": {
        "id": "DeRtszJnxhPq",
        "colab_type": "code",
        "colab": {
          "base_uri": "https://localhost:8080/",
          "height": 51
        },
        "outputId": "144e9ef5-fced-47d3-ab43-93eb28000432"
      },
      "source": [
        "#dictionary and its default function\n",
        "\n",
        "#access dictionary\n",
        "dict={'name' : 'zara' , 'age':'12' , 'class':'first'}\n",
        "print( dict['name'] )\n",
        "#add new word in dictionary\n",
        "dict[\"school\"]= 'bal bhavan public school'\n",
        "print(dict['school'])\n"
      ],
      "execution_count": 39,
      "outputs": [
        {
          "output_type": "stream",
          "text": [
            "zara\n",
            "bal bhavan public school\n"
          ],
          "name": "stdout"
        }
      ]
    },
    {
      "cell_type": "code",
      "metadata": {
        "id": "o95Fjvvn6SWJ",
        "colab_type": "code",
        "colab": {
          "base_uri": "https://localhost:8080/",
          "height": 68
        },
        "outputId": "09a647f0-5104-4572-ad65-ec650959dd27"
      },
      "source": [
        "#tuple and its default function\n",
        "#access tuple\n",
        "tup1 = ('physics', 'chemistry', 1997, 2000);\n",
        "tup2 = (1, 2, 3, 4, 5, 6, 7 );\n",
        "print (\"tup1[0]: \", tup1[0])\n",
        "print (\"tup2[1:5]: \", tup2[1:5])\n",
        "\n",
        "#update tuple\n",
        "tup1 = (12, 34.56);\n",
        "tup2 = ('abc', 'xyz');\n",
        "tup3 = tup1 + tup2;\n",
        "print (tup3)\n",
        "\n"
      ],
      "execution_count": 45,
      "outputs": [
        {
          "output_type": "stream",
          "text": [
            "tup1[0]:  physics\n",
            "tup2[1:5]:  (2, 3, 4, 5)\n",
            "(12, 34.56, 'abc', 'xyz')\n"
          ],
          "name": "stdout"
        }
      ]
    },
    {
      "cell_type": "code",
      "metadata": {
        "id": "WP-cinqk7sIX",
        "colab_type": "code",
        "colab": {
          "base_uri": "https://localhost:8080/",
          "height": 231
        },
        "outputId": "ff77f460-3902-4e64-917c-e1ed625003d7"
      },
      "source": [
        "#delete tuple element\n",
        "tup1 = ('physics', 'chemistry', 1997, 2000);\n",
        "print (tup1)\n",
        "       \n",
        "del tup1;\n",
        "print('after deleting')\n",
        "print(tup1)"
      ],
      "execution_count": 50,
      "outputs": [
        {
          "output_type": "stream",
          "text": [
            "('physics', 'chemistry', 1997, 2000)\n",
            "after deleting\n"
          ],
          "name": "stdout"
        },
        {
          "output_type": "error",
          "ename": "NameError",
          "evalue": "ignored",
          "traceback": [
            "\u001b[0;31m---------------------------------------------------------------------------\u001b[0m",
            "\u001b[0;31mNameError\u001b[0m                                 Traceback (most recent call last)",
            "\u001b[0;32m<ipython-input-50-303ef41079bc>\u001b[0m in \u001b[0;36m<module>\u001b[0;34m()\u001b[0m\n\u001b[1;32m      5\u001b[0m \u001b[0;32mdel\u001b[0m \u001b[0mtup1\u001b[0m\u001b[0;34m;\u001b[0m\u001b[0;34m\u001b[0m\u001b[0;34m\u001b[0m\u001b[0m\n\u001b[1;32m      6\u001b[0m \u001b[0mprint\u001b[0m\u001b[0;34m(\u001b[0m\u001b[0;34m'after deleting'\u001b[0m\u001b[0;34m)\u001b[0m\u001b[0;34m\u001b[0m\u001b[0;34m\u001b[0m\u001b[0m\n\u001b[0;32m----> 7\u001b[0;31m \u001b[0mprint\u001b[0m\u001b[0;34m(\u001b[0m\u001b[0mtup1\u001b[0m\u001b[0;34m)\u001b[0m\u001b[0;34m\u001b[0m\u001b[0;34m\u001b[0m\u001b[0m\n\u001b[0m",
            "\u001b[0;31mNameError\u001b[0m: name 'tup1' is not defined"
          ]
        }
      ]
    },
    {
      "cell_type": "code",
      "metadata": {
        "id": "NLJi4yUM8N0F",
        "colab_type": "code",
        "colab": {
          "base_uri": "https://localhost:8080/",
          "height": 34
        },
        "outputId": "df18525b-a328-4d39-bd2c-10184df45f17"
      },
      "source": [
        "#string and its default methods\n",
        "\n",
        "#1 capitalise first letter of string\n",
        "str = \"this is string example....wow!!!\";\n",
        "print(\"str.capitalize() : \", str.capitalize())"
      ],
      "execution_count": 52,
      "outputs": [
        {
          "output_type": "stream",
          "text": [
            "str.capitalize() :  This is string example....wow!!!\n"
          ],
          "name": "stdout"
        }
      ]
    },
    {
      "cell_type": "code",
      "metadata": {
        "id": "HAy1V64s8uB2",
        "colab_type": "code",
        "colab": {
          "base_uri": "https://localhost:8080/",
          "height": 51
        },
        "outputId": "0f8e8b06-0919-4ed3-febe-4bdcf1c991ad"
      },
      "source": [
        "#2.isalnum()\n",
        "str = \"this2009\";  # No space in this string\n",
        "print(str.isalnum())\n",
        "\n",
        "str = \"this is string example....wow!!!\";\n",
        "print(str.isalnum())"
      ],
      "execution_count": 53,
      "outputs": [
        {
          "output_type": "stream",
          "text": [
            "True\n",
            "False\n"
          ],
          "name": "stdout"
        }
      ]
    },
    {
      "cell_type": "code",
      "metadata": {
        "id": "DoDOUjza893o",
        "colab_type": "code",
        "colab": {
          "base_uri": "https://localhost:8080/",
          "height": 51
        },
        "outputId": "916d1535-3656-448d-9d7f-a4ce00f70515"
      },
      "source": [
        "#3.isalpha() \n",
        "str = \"this\";  # No space & digit in this string\n",
        "print( str.isalpha())\n",
        "\n",
        "str = \"this is string example....wow!!!\";\n",
        "print(str.isalpha())"
      ],
      "execution_count": 55,
      "outputs": [
        {
          "output_type": "stream",
          "text": [
            "True\n",
            "False\n"
          ],
          "name": "stdout"
        }
      ]
    }
  ]
}